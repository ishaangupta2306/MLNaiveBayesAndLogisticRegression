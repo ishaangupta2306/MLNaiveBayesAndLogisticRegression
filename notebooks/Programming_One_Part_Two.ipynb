{
 "cells": [
  {
   "cell_type": "markdown",
   "source": [
    "# Jupyter Writeup\n",
    "## a. Output\n",
    "### Voting\n",
    "\n",
    "**Depth 1.**<br />\n",
    "Accuracy: 0.57<br />\n",
    "Size: 1<br />\n",
    "Maximum Depth: 1<br />\n",
    "First Feature: Repealing-the-Job-Killing-Health-Care-Law-Act\n",
    "\n",
    "**Depth 2.**<br />\n",
    "Accuracy: 1.0<br />\n",
    "Size: 6<br />\n",
    "Maximum Depth: 2<br />\n",
    "First Feature: Repealing-the-Job-Killing-Health-Care-Law-Act\n",
    "\n",
    "**Depth 3.**<br />\n",
    "Accuracy: 1.0<br />\n",
    "Size: 16<br />\n",
    "Maximum Depth: 3<br />\n",
    "First Feature: Repealing-the-Job-Killing-Health-Care-Law-Act\n",
    "\n",
    "**Depth 4.**<br />\n",
    "Accuracy: 1.0<br />\n",
    "Size: 30<br />\n",
    "Maximum Depth: 4<br />\n",
    "First Feature: Repealing-the-Job-Killing-Health-Care-Law-Act\n",
    "\n",
    "**Depth 5.**<br />\n",
    "Accuracy: 0.99<br />\n",
    "Size: 43<br />\n",
    "Maximum Depth: 5<br />\n",
    "First Feature: Repealing-the-Job-Killing-Health-Care-Law-Act"
   ],
   "metadata": {
    "collapsed": false,
    "pycharm": {
     "name": "#%% md\n"
    }
   }
  },
  {
   "cell_type": "markdown",
   "source": [
    "### Spam\n",
    "\n",
    "**Depth 1.**<br />\n",
    "Accuracy: 0.63<br />\n",
    "Size: 1<br />\n",
    "Maximum Depth: 1<br />\n",
    "First Feature: os\n",
    "\n",
    "**Depth 2.**<br />\n",
    "Accuracy: 0.66<br />\n",
    "Size: 9<br />\n",
    "Maximum Depth: 2<br />\n",
    "First Feature: os\n",
    "\n",
    "**Depth 3.**<br />\n",
    "Accuracy: 0.72<br />\n",
    "Size: 32<br />\n",
    "Maximum Depth: 3<br />\n",
    "First Feature: os\n",
    "\n",
    "**Depth 4.**<br />\n",
    "Accuracy: 0.73<br />\n",
    "Size: 75<br />\n",
    "Maximum Depth: 4<br />\n",
    "First Feature: os\n",
    "\n",
    "**Depth 5.**<br />\n",
    "Accuracy: 0.74<br />\n",
    "Size: 142<br />\n",
    "Maximum Depth: 5<br />\n",
    "First Feature: os"
   ],
   "metadata": {
    "collapsed": false,
    "pycharm": {
     "name": "#%% md\n"
    }
   }
  },
  {
   "cell_type": "markdown",
   "source": [
    "### Volcanoes\n",
    "\n",
    "**Depth 1.**<br />\n",
    "Accuracy: 0.68<br />\n",
    "Size: 1<br />\n",
    "Maximum Depth: 1<br />\n",
    "First Feature: image_id\n",
    "\n",
    "**Depth 2.**<br />\n",
    "Accuracy: 0.72<br />\n",
    "Size: 58<br />\n",
    "Maximum Depth: 2<br />\n",
    "First Feature: image_id\n",
    "\n",
    "**Depth 3.**<br />\n",
    "Accuracy: 0.73<br />\n",
    "Size: 266<br />\n",
    "Maximum Depth: 3<br />\n",
    "First Feature: image_id\n",
    "\n",
    "**Depth 4.**<br />\n",
    "Accuracy: 0.73<br />\n",
    "Size: 470<br />\n",
    "Maximum Depth: 4<br />\n",
    "First Feature: image_id\n",
    "\n",
    "**Depth 5.**<br />\n",
    "Accuracy: 0.72<br />\n",
    "Size: 594<br />\n",
    "Maximum Depth: 5<br />\n",
    "First Feature: image_id"
   ],
   "metadata": {
    "collapsed": false,
    "pycharm": {
     "name": "#%% md\n"
    }
   }
  },
  {
   "cell_type": "markdown",
   "source": [
    "## b. First Test\n",
    "### Spam\n",
    "The first test picked by the tree is OS (which is Operating system of the remote host as determined by p0f tool from SYN packet). The possible values of this features: {Windows, Solaris, Linux, UNKNOWN, FreeBSD, Others}. In the context of classification of spam, this feature is not generally very predictible about whether the email is spam or not. For example, a friend might be sending you an email but the mail might be considered a spam just because of a particular OS using by the remote host. Similarly, a spam email might be transmitted to the receiver machine but the remote host OS might not be checked for spam as it has a particular value. Hence, OS is not the most sensible test for this classification. "
   ],
   "metadata": {
    "collapsed": false
   }
  },
  {
   "cell_type": "markdown",
   "source": [
    "### Voting\n",
    "The first test picked by the tree is Repealing-the-Job-Killing-Health-Care-Law-Act. In the context of  Selecting Voting Records of the House of Representatives, this feature is most predictible about selection of popular bills. Hence,Repealing-the-Job-Killing-Health-Care-Law-Act is the most sensible test for this classification. "
   ],
   "metadata": {
    "collapsed": false,
    "pycharm": {
     "name": "#%% md\n"
    }
   }
  },
  {
   "cell_type": "markdown",
   "source": [
    "## c. CV Plot\n",
    "### Volcanoes\n",
    "\n",
    "Based on the maximum depth achieved on these trials, it appears that after 6 branches, the algorithm terminates due to not finding any further splits that lead to information gain. This is consistent with the fact that the accuracy is the same for all depth values above 6. It also appears that by this point the tree has begun overfitting, because accuracy decreases between depth values 4 and 8."
   ],
   "metadata": {
    "collapsed": false,
    "pycharm": {
     "name": "#%% md\n"
    }
   }
  },
  {
   "cell_type": "code",
   "execution_count": 7,
   "source": [
    "import matplotlib.pyplot as plt\n",
    "\n",
    "depthValues = [1,2,4,8,16,32]\n",
    "CVAccuracy = [0.68,0.72,0.73,0.72,0.72,0.72]\n",
    "\n",
    "plt.scatter(depthValues,CVAccuracy)\n",
    "plt.show()"
   ],
   "outputs": [
    {
     "output_type": "display_data",
     "data": {
      "image/png": "[encoded data removed]",
      "text/plain": [
       "<Figure size 432x288 with 1 Axes>"
      ]
     },
     "metadata": {
      "needs_background": "light"
     }
    }
   ],
   "metadata": {
    "collapsed": false,
    "pycharm": {
     "name": "#%%\n"
    }
   }
  },
  {
   "cell_type": "markdown",
   "source": [
    "### Spam\n",
    "Based on the maximum depth achieved on the trials for Spam, it appears that the accuracy increases with upto 16 depths. After 16 depths, the accuracy of the algorithm starts decreasing which shows that after 16 depths the tree has begun overfitting. \n",
    "\n",
    "\n"
   ],
   "metadata": {
    "collapsed": false
   }
  },
  {
   "cell_type": "code",
   "execution_count": 11,
   "source": [
    "depthValues = [1,2,4,8,16,32]\n",
    "CVAccuracy = [0.63,0.66,0.73,0.76,0.82,0.81]\n",
    "\n",
    "plt.scatter(depthValues,CVAccuracy)\n",
    "plt.show()\n"
   ],
   "outputs": [
    {
     "output_type": "display_data",
     "data": {
      "image/png": "[encoded data removed]",
      "text/plain": [
       "<Figure size 432x288 with 1 Axes>"
      ]
     },
     "metadata": {
      "needs_background": "light"
     }
    }
   ],
   "metadata": {
    "collapsed": false,
    "pycharm": {
     "name": "#%%\n"
    }
   }
  }
 ],
 "metadata": {
  "kernelspec": {
   "display_name": "Python 3",
   "language": "python",
   "name": "python3"
  },
  "language_info": {
   "codemirror_mode": {
    "name": "ipython",
    "version": 3
   },
   "file_extension": ".py",
   "mimetype": "text/x-python",
   "name": "python",
   "nbconvert_exporter": "python",
   "pygments_lexer": "ipython3",
   "version": "3.8.8"
  }
 },
 "nbformat": 4,
 "nbformat_minor": 5
}